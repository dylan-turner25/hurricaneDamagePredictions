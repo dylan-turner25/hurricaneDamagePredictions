{
 "cells": [
  {
   "cell_type": "markdown",
   "metadata": {},
   "source": [
    "This script imports two seperate pretrained xgboost models that were trained on the FEMA's NFIP claims dataset and predicts damage distributions from a category 3 or higher hurricane passing within 30 miles (or 60 miles) of each household in the survey data"
   ]
  },
  {
   "cell_type": "code",
   "execution_count": 16,
   "metadata": {},
   "outputs": [],
   "source": [
    "import pandas as pd\n",
    "import numpy as np\n",
    "import pickle\n",
    "import os\n",
    "import random\n",
    "from sklearn.preprocessing import StandardScaler\n",
    "from sklearn.cluster import KMeans\n",
    "import matplotlib.pyplot as plt\n",
    "\n",
    "\n",
    "# code below creates a progres bar that can be deployed in any code chunk\n",
    "import time, sys\n",
    "from IPython.display import clear_output\n",
    "\n",
    "def update_progress(progress):\n",
    "    bar_length = 20\n",
    "    if isinstance(progress, int):\n",
    "        progress = float(progress)\n",
    "    if not isinstance(progress, float):\n",
    "        progress = 0\n",
    "    if progress < 0:\n",
    "        progress = 0\n",
    "    if progress >= 1:\n",
    "        progress = 1\n",
    "\n",
    "    block = int(round(bar_length * progress))\n",
    "\n",
    "    clear_output(wait = True)\n",
    "    text = \"Progress: [{0}] {1:.1f}%\".format( \"#\" * block + \"-\" * (bar_length - block), progress * 100)\n",
    "    print(text)\n",
    "\n",
    "\n",
    "\n"
   ]
  },
  {
   "cell_type": "code",
   "execution_count": 2,
   "metadata": {},
   "outputs": [
    {
     "name": "stdout",
     "output_type": "stream",
     "text": [
      "/home/dylan/Dropbox/Research/Hurricane Damage Predictions\n"
     ]
    }
   ],
   "source": [
    "# get/change working directory\n",
    "os.chdir(\"/home/dylan/Dropbox/Research/Hurricane Damage Predictions\")\n",
    "print(os.getcwd())"
   ]
  },
  {
   "cell_type": "code",
   "execution_count": 3,
   "metadata": {},
   "outputs": [
    {
     "name": "stdout",
     "output_type": "stream",
     "text": [
      "XGBRegressor(base_score=0.5, booster='gbtree', colsample_bylevel=1,\n",
      "             colsample_bynode=1, colsample_bytree=0.9, gamma=0, gpu_id=-1,\n",
      "             importance_type='gain', interaction_constraints='',\n",
      "             learning_rate=0.03, max_delta_step=0, max_depth=10,\n",
      "             min_child_weight=9, missing=nan, monotone_constraints='()',\n",
      "             n_estimators=500, n_jobs=0, num_parallel_tree=1,\n",
      "             objective='reg:squarederror', random_state=25, reg_alpha=0,\n",
      "             reg_lambda=1, scale_pos_weight=1, subsample=0.6,\n",
      "             tree_method='exact', validate_parameters=1, verbosity=None)\n"
     ]
    }
   ],
   "source": [
    "# load pre trained xgboost model for nfip model\n",
    "file_xgb = open('./Saved Python Objects/XGB_Trained.obj', 'rb') \n",
    "xgb_trained = pickle.load(file_xgb)\n",
    "print(xgb_trained)"
   ]
  },
  {
   "cell_type": "code",
   "execution_count": 4,
   "metadata": {},
   "outputs": [],
   "source": [
    "# load cleaned survey data\n",
    "# this is the data to add damage predictions to\n",
    "make_data = 1 # if one, will generate fake data to play around with\n",
    "               # if zero, will load specified csv file\n",
    "\n",
    "if make_data == 0:\n",
    "    survey_data = pd.DataFrame(pd.read_csv(\"./Data/cleaned_survey_data.csv\"))\n",
    "    survey_data.info() # inspect variables and types\n",
    "    \n",
    "    # clean data and label to be consistent with what cleaned xgboost model expects\n",
    "\n",
    "if make_data == 1:\n",
    "    # create some fake data that needs predictions. Actual data can be substituted here.\n",
    "    obs = 5 # number of observations to generate\n",
    "\n",
    "    # closest that storm was to county in which home is located\n",
    "    storm_dist = np.random.uniform(low= .5, high=30, size= obs) # this will get replaced during the monte carlo reps\n",
    "    fake_data = pd.DataFrame(storm_dist, columns = ['storm_dist']) \n",
    "    # total precipitation in county in which home is located on the day that storm was closest, \n",
    "    # along with the 2 days before and 2 days after closest approach\n",
    "    fake_data['tot_precip'] = np.random.uniform(low=0, high=6, size= obs) # this will get replaced during the monte carlo reps\n",
    "\n",
    "    # highest sustained one minute wind speed in m/s \n",
    "    fake_data['vmax_sust'] =np.random.uniform(low=20, high=60, size= obs) # this will get replaced during the monte carlo reps\n",
    "\n",
    "    # highest gust wind speed  in m/s\n",
    "    fake_data['vmax_gust'] =np.random.uniform(low=20, high=60, size= obs)  # this will get replaced during the monte carlo reps\n",
    "\n",
    "    # longest continuous duration (in minutes) at which wind speed was above 20m/s\n",
    "    fake_data['sust_dur'] = np.random.uniform(low=0, high=3, size= obs)  # this will get replaced during the monte carlo reps\n",
    "\n",
    "    # = 1 if state home is located in is touching coast\n",
    "    fake_data['coastal_state'] =np.random.uniform(low=0, high=1, size= obs) \n",
    "\n",
    "    # = 1 if county home is located in is touching coast\n",
    "    fake_data['coastal_county'] = np.random.uniform(low=0, high=1, size= obs) \n",
    "\n",
    "    # = 1 if nfip claim = nfip coverage. This is used in the training data to let the ML algorithm \n",
    "    # know that the actual damage may be higher than reported. This can be set to 0.\n",
    "    fake_data['total_flood_damage_censored'] = np.zeros(obs)\n",
    "    \n",
    "    # freeboard in feet   \n",
    "    fake_data['freeboard_ft'] = np.random.uniform(low=-2, high=10, size= obs) \n",
    "\n",
    "    # base flood elevation in feet\n",
    "    fake_data['base_flood_elv_ft'] = np.random.uniform(low=-2, high=5, size= obs) \n",
    "\n",
    "    # = 1 if home has a below ground basement\n",
    "    fake_data['basement'] = np.random.uniform(low=0, high=1, size= obs) \n",
    "\n",
    "    # = 1 if home has a crawlspace\n",
    "    fake_data['crawlspace'] = np.random.uniform(low=0, high=1, size= obs) \n",
    "\n",
    "    # = 1 if home is elevated (on pillars)\n",
    "    fake_data['elevated_building'] = np.random.uniform(low=0, high=1, size= obs) \n",
    "\n",
    "    # =1 if FEMA flood zone clasifcation starts with A\n",
    "    fake_data['a_zone'] = np.random.uniform(low=0, high=1, size= obs) \n",
    "\n",
    "    # =1 if FEMA flood zone clasifcation starts with V\n",
    "    fake_data['v_zone'] = np.random.uniform(low=0, high=1, size= obs) \n",
    "\n",
    "    # =1 if FEMA flood zone clasifcation starts with X\n",
    "    fake_data['x_zone'] = np.random.uniform(low=0, high=1, size= obs) \n",
    "\n",
    "    # =1 if home is is FEMA SFHA (special flood hazard area, zones A and V)\n",
    "    fake_data['sfha'] = np.random.uniform(low=0, high=1, size= obs) \n",
    "\n",
    "    # number of floors in the home\n",
    "    fake_data['floors'] = np.random.uniform(low=1, high=3, size= obs) \n",
    "\n",
    "    # = 1 if home was built after flood insurance rate maps went in to effect\n",
    "    fake_data['post_firm'] = np.random.uniform(low=0, high=1, size= obs) \n",
    "\n",
    "    # = 1 if home is primary place of residence\n",
    "    fake_data['primary_res'] = np.random.uniform(low=0, high=1, size= obs) \n",
    "\n",
    "    # avg county home value in the county home is located in\n",
    "    fake_data['avg_county_home_value'] = np.random.uniform(low=100000, high=500000, size= obs) \n",
    "\n",
    "    # home value is assumed to be equal to flood insurance coverage on structure\n",
    "    # in the nfip training data this should be set to the actual home value\n",
    "    fake_data['assumed_home_value'] = np.random.uniform(low=100000, high=500000, size= obs) \n",
    "\n",
    "    # = 1 if nfip coverage equals $250,000 (the max nfip structure coverage), this \n",
    "    # will be zero if actual home value data is being used\n",
    "    fake_data['assumed_home_value_censored'] = np.zeros(obs)\n",
    "    \n",
    "    # region dummy variables \n",
    "    fake_data['region_Atlantic'] = np.random.uniform(low=0, high=1, size= obs) \n",
    "    fake_data['region_Gulf of Mexico'] = np.random.uniform(low=0, high=1, size= obs) \n",
    "    fake_data['region_Pacific'] = np.zeros(obs)+1\n",
    "\n",
    "    # = 1 if the observation needs a prediction. This data does not need damage predictions\n",
    "    # this column will be used later to tell nfip data and fake data/ loaded data apart\n",
    "    fake_data['get_prediction'] = np.zeros(obs)+1\n",
    "\n",
    "\n",
    "#x = data[[\"storm_dist\",\"tot_precip\",\"vmax_sust\",\"vmax_gust\",\n",
    " #             \"sust_dur\",\"coastal_state\",\"coastal_county\",\n",
    " #             \"total_flood_damage_censored\",\"freeboard_ft\",\n",
    " #             \"base_flood_elv_ft\",\"basement\",\"crawlspace\",\"elevated_building\",\n",
    " #             \"a_zone\",\"v_zone\",\"x_zone\",\"sfha\",\"floors\",\"post_firm\",\n",
    " #             \"primary_res\",\"avg_county_home_value\",\"assumed_home_value\",\n",
    " #             \"assumed_home_value_censored\"]]"
   ]
  },
  {
   "cell_type": "code",
   "execution_count": 5,
   "metadata": {},
   "outputs": [],
   "source": [
    "# load nfip data\n",
    "# this gets used again to draw random combinations of plausible hurricane conditions\n",
    "nfip_data = pd.DataFrame(pd.read_csv(\"./Data/nfip_data_cleaned.csv\"))\n",
    "#nfip_data.info() # inspect variables and types\n",
    "\n",
    "# select only columns that need to be passed to the xgboost model\n",
    "nfip_subset = nfip_data[[\"storm_dist\",\"tot_precip\",\"vmax_sust\",\"vmax_gust\",\n",
    "              \"sust_dur\",\"coastal_state\",\"coastal_county\",\n",
    "             \"total_flood_damage_censored\",\"freeboard_ft\",\n",
    "              \"base_flood_elv_ft\",\"basement\",\"crawlspace\",\"elevated_building\",\n",
    "             \"a_zone\",\"v_zone\",\"x_zone\",\"sfha\",\"floors\",\"post_firm\",\n",
    "             \"primary_res\",\"avg_county_home_value\",\"assumed_home_value\",\n",
    "              \"assumed_home_value_censored\"]]\n",
    "\n",
    "# one hot encode categorical features\n",
    "region = pd.get_dummies(nfip_data.coastal_region, prefix='region')\n",
    "nfip_subset = nfip_subset.join(region)\n",
    "\n",
    "# clean the subset\n",
    "# drop rows with missing values\n",
    "nfip_subset.dropna( inplace = True)\n",
    "\n",
    "# = 1 if the observation needs a prediction. This data does not need damage predictions\n",
    "# this column will be used later to tell nfip data and fake data/ loaded data apart\n",
    "nfip_subset.loc[:,'get_prediction'] = 0\n",
    "\n"
   ]
  },
  {
   "cell_type": "code",
   "execution_count": 7,
   "metadata": {},
   "outputs": [],
   "source": [
    "# load ihp data\n",
    "# this gets used again to draw random combinations of plausible hurricane conditions\n",
    "\n",
    "# NOTE: coming soon"
   ]
  },
  {
   "cell_type": "code",
   "execution_count": 8,
   "metadata": {},
   "outputs": [],
   "source": [
    "# combine fake data / data that needs predictions with the nfip subset\n",
    "nfip_combined = nfip_subset.append(fake_data)\n",
    "\n"
   ]
  },
  {
   "cell_type": "code",
   "execution_count": 9,
   "metadata": {},
   "outputs": [
    {
     "name": "stdout",
     "output_type": "stream",
     "text": [
      "7731988.000000002\n",
      "6727667.375277677\n",
      "6107008.9713374\n",
      "5665648.516295302\n",
      "5278851.76638459\n",
      "5028117.724331138\n",
      "4779061.483659172\n",
      "4538271.699694445\n",
      "4360931.844287218\n"
     ]
    },
    {
     "data": {
      "text/plain": [
       "Text(0, 0.5, 'Within Cluster SSE')"
      ]
     },
     "execution_count": 9,
     "metadata": {},
     "output_type": "execute_result"
    },
    {
     "data": {
      "image/png": "[encoded data removed]",
      "text/plain": [
       "<Figure size 432x288 with 1 Axes>"
      ]
     },
     "metadata": {
      "needs_background": "light"
     },
     "output_type": "display_data"
    }
   ],
   "source": [
    "# apply k means clustering to create clusters of like data to randomly draw hurricane conditions from\n",
    "# exclude hurricane variables when clustering\n",
    "hurricane_vars = ['storm_dist','tot_precip','vmax_sust','vmax_gust','sust_dur']\n",
    "\n",
    "# Scale the test data before trying to cluster\n",
    "scaler = StandardScaler()\n",
    "nfip_combined_scaled = scaler.fit_transform(nfip_combined.drop(hurricane_vars, axis = 1))\n",
    "\n",
    "\n",
    "# decide how many clusters to use based on \"elbow method\"\n",
    "distortion = [] # i.e. within cluster sse\n",
    "\n",
    "max_clusters = 10 # define max number of clusters to consider\n",
    "for k in range(1,max_clusters): \n",
    "    km = KMeans(\n",
    "        n_clusters=k, init='random',\n",
    "        n_init=20, max_iter=500,\n",
    "        tol=0.001, random_state=0\n",
    "    )\n",
    "    km.fit(nfip_combined_scaled)\n",
    "    distortion.append(km.inertia_)\n",
    "    print('Clusters = ', k ,' , Distortion = ',km.inertia_)\n",
    "# plot\n",
    "plt.plot(range(1, max_clusters), distortion, marker='o')\n",
    "plt.xlabel('Clusters')\n",
    "plt.ylabel('Within Cluster SSE')"
   ]
  },
  {
   "cell_type": "code",
   "execution_count": 12,
   "metadata": {},
   "outputs": [
    {
     "data": {
      "text/plain": [
       "1     3\n",
       "6     0\n",
       "8     4\n",
       "10    4\n",
       "11    3\n",
       "Name: cluster, dtype: int32"
      ]
     },
     "execution_count": 12,
     "metadata": {},
     "output_type": "execute_result"
    }
   ],
   "source": [
    "# Pick the number of clusters to use\n",
    "clusters = 5\n",
    "\n",
    "# cluster using K means choosen number of clusters\n",
    "km = KMeans(\n",
    "    n_clusters=clusters, init='random',\n",
    "    n_init=20, max_iter=500, \n",
    "    tol=1e-04, random_state=0\n",
    ")\n",
    "clusters = km.fit_predict(nfip_combined_scaled)\n",
    "\n",
    "# add the cluster number to the unscaled test data data\n",
    "nfip_combined['cluster'] = clusters\n",
    "\n",
    "# check and make sure cluster column has been added \n",
    "nfip_combined['cluster'].head()"
   ]
  },
  {
   "cell_type": "code",
   "execution_count": 13,
   "metadata": {},
   "outputs": [
    {
     "name": "stdout",
     "output_type": "stream",
     "text": [
      "XGBRegressor(base_score=0.5, booster='gbtree', colsample_bylevel=1,\n",
      "             colsample_bynode=1, colsample_bytree=0.9, gamma=0, gpu_id=-1,\n",
      "             importance_type='gain', interaction_constraints='',\n",
      "             learning_rate=0.03, max_delta_step=0, max_depth=10,\n",
      "             min_child_weight=9, missing=nan, monotone_constraints='()',\n",
      "             n_estimators=500, n_jobs=0, num_parallel_tree=1,\n",
      "             objective='reg:squarederror', random_state=25, reg_alpha=0,\n",
      "             reg_lambda=1, scale_pos_weight=1, subsample=0.6,\n",
      "             tree_method='exact', validate_parameters=1, verbosity=None)\n"
     ]
    }
   ],
   "source": [
    "# load pre trained xgboost model for nfip model\n",
    "file_xgb = open('./Saved Python Objects/XGB_Trained.obj', 'rb') \n",
    "xgb_trained = pickle.load(file_xgb)\n",
    "print(xgb_trained)"
   ]
  },
  {
   "cell_type": "code",
   "execution_count": 31,
   "metadata": {},
   "outputs": [
    {
     "name": "stdout",
     "output_type": "stream",
     "text": [
      "Progress: [####################] 100.0%\n"
     ]
    }
   ],
   "source": [
    "# pull out the origonal data loaded/generated that needs to have damage predictiosn added to it\n",
    "# this data now has a cluster assigned to each observation that corresponds to a set of observations\n",
    "# in the nfip data. \n",
    "needs_predictions = nfip_combined[nfip_combined.get_prediction == 1]\n",
    "\n",
    "# similarly, slice the combined data frame to pull out nfip data which does not need a prediction asigned to it\n",
    "# again this data has a cluster number assinged to each observation\n",
    "nfip_with_cluster = nfip_combined[nfip_combined.get_prediction == 0]\n",
    "\n",
    "for k in range(len(needs_predictions)-1): # iterate over each row of the data frame that needs predictions added\n",
    "    ooi = needs_predictions[k:k+1] # select a single observation (ooi = \"observation of interest\")\n",
    "    trained_on_features = ooi.columns # store column names to slice with later\n",
    "\n",
    "    # identify which cluster the observation belongs to\n",
    "    ooi_cluster = int(ooi['cluster'])\n",
    "\n",
    "    # extract historical hurricane conditions from all observations in the nfip data that \n",
    "    # have the same cluster number as the observation getting a prediction assinged to it\n",
    "    hurricane_conditions = nfip_with_cluster[nfip_with_cluster.cluster.eq(ooi_cluster)] # filter based on cluster number\n",
    "    hurricane_conditions = hurricane_conditions[hurricane_vars] # keep only variables related to hurricane conditions\n",
    "    hurricane_conditions = hurricane_conditions.dropna() # drop any missing values\n",
    "\n",
    "    # reps used to form the predicted damage distribution\n",
    "    # will need to adjust based on number of observations: \n",
    "    # higher reps makes a nice smooth distribution, but increases computational cost\n",
    "    reps = 5000 \n",
    "    \n",
    "    counter = 0 # counter for while loop\n",
    "    damage_estimates = np.array([]) # initialize an array to store the damage estimates\n",
    "    while counter < reps:\n",
    "        counter = counter + 1\n",
    "        # for each column in the selected observation related to the historical hurricane condition, \n",
    "        # replace it by randomly drawing values from the hurricane conditions identified above\n",
    "        random_row = random.randint(1,len(hurricane_conditions)-1) # pick a random integer less than the number of rows in the hurricane conditions\n",
    "        random_conditions = hurricane_conditions[random_row:random_row+1] # pick out a set of random conditions.\n",
    "        \n",
    "        # Note: its important not to mix conditions from different observations since\n",
    "        # the conditions set of conditions need to be reasonable as a whole \n",
    "        # (for example: mixing observations may lead to peak wind gust speed being lower than sustained wind speed)\n",
    "        \n",
    "        # to generate more variation, perturb each observation by up to +/- 5 percent\n",
    "        for t in range(len(random_conditions.columns)):\n",
    "            disturbance = 1+random.uniform(-.05, .05)\n",
    "            random_conditions[random_conditions.columns[t]] = random_conditions[random_conditions.columns[t]] * disturbance\n",
    "        \n",
    "   \n",
    "        # replace the random hurricane conditions in the ooi with these randomly selected conditions\n",
    "        ooi.loc[:,'storm_dist'] = float(random_conditions.loc[:,'storm_dist'])\n",
    "        ooi.loc[:,'tot_precip'] = float(random_conditions.loc[:,'tot_precip'])\n",
    "        ooi.loc[:,'vmax_sust'] = float(random_conditions.loc[:,'vmax_sust'])\n",
    "        ooi.loc[:,'vmax_gust'] = float(random_conditions.loc[:,'vmax_gust'])\n",
    "        ooi.loc[:,'sust_dur'] = float(random_conditions.loc[:,'sust_dur'])\n",
    "\n",
    "\n",
    "        # predict damages using the trained XGB model and randomly selected conditions\n",
    "        predicted_damage  = xgb_trained.predict(ooi[trained_on_features].drop(['cluster','get_prediction', 'region_Pacific'],axis = 1))\n",
    "        if predicted_damage < 0:\n",
    "            predicted_damage = 0\n",
    "        # add predicted damage to the damage estimates array\n",
    "        damage_estimates = np.append(damage_estimates,predicted_damage)\n",
    "\n",
    "    # for first itteration create a df to save everything int\n",
    "    if k == 0:\n",
    "        predictions =  pd.DataFrame(ooi) # store the observation of interest as a df\n",
    "        predictions['predicted_dam_dist'] = [damage_estimates] # store np.array of damage estimates in a single cell of the df\n",
    "        # loop through range to calculate percentiles of the predicted damage distribution and add as columns to the df\n",
    "        for p in range(0,100,5): \n",
    "            predictions['pct'] = np.percentile(damage_estimates,p)\n",
    "            col_name = [\"pred_dam\",str(p),\"pct\"] \n",
    "            predictions.rename(columns={'pct':\"_\".join(col_name)}, inplace=True)\n",
    "            \n",
    "    # for subsequent itterations add to the existing df\n",
    "    if k != 0:\n",
    "        ooi_df = pd.DataFrame(ooi)\n",
    "        ooi_df['predicted_dam_dist'] = [damage_estimates]\n",
    "        for p in range(0,100,5):\n",
    "            col_name = [\"pred_dam\",str(p),\"pct\"]\n",
    "            ooi_df['pct'] = np.percentile(damage_estimates,p)\n",
    "            ooi_df.rename(columns={'pct':\"_\".join(col_name)}, inplace=True)\n",
    "            \n",
    "    # append the current observation to the data frame of observations that already have damage estimates \n",
    "        predictions = predictions.append(ooi_df)\n",
    "    \n",
    "     # loop progress bar\n",
    "    update_progress(k / len(needs_predictions))\n",
    "\n",
    "update_progress(1)"
   ]
  },
  {
   "cell_type": "code",
   "execution_count": 34,
   "metadata": {},
   "outputs": [],
   "source": [
    "# save data with predicted damage distributions to a csv file\n",
    "predictions.to_csv('./Data/fake_data_with_predictions.csv', index=False)  \n"
   ]
  },
  {
   "cell_type": "code",
   "execution_count": 47,
   "metadata": {},
   "outputs": [
    {
     "name": "stdout",
     "output_type": "stream",
     "text": [
      "1\n"
     ]
    },
    {
     "data": {
      "image/png": "[encoded data removed]",
      "text/plain": [
       "<Figure size 432x288 with 1 Axes>"
      ]
     },
     "metadata": {
      "needs_background": "light"
     },
     "output_type": "display_data"
    }
   ],
   "source": [
    "# plot a random observations estimated damage distribution\n",
    "row = random.randint(0,len(predictions)-1)\n",
    "print(row)\n",
    "random_obs = predictions[row:row+1]\n",
    "\n",
    "predicted = np.array(random_obs['predicted_dam_dist'])\n",
    "\n",
    "hist = plt.hist(predicted, bins = 30, color='b')\n",
    "plt.xlabel('Estimated NFIP claim distribution')\n",
    "plt.ylabel('Count')\n",
    "plt.title('Estimated Distribution vs Observed Damage')\n",
    "plt.show()"
   ]
  },
  {
   "cell_type": "code",
   "execution_count": 41,
   "metadata": {},
   "outputs": [],
   "source": [
    "# slice data frame to create a subset of the main data set that contains variables that need to be passed to the XGBoost model\n",
    "xgb_features = pd.DataFrame(data['fsid'])\n",
    "xgb_features['storm_dist'] = 1 # will randomly alter this in montecarlo simulation\n",
    "xgb_features['tot_precip'] = 1 # will randomly alter this in montecarlo simulation\n",
    "xgb_features['vmax_sust'] = 1 # will randomly alter this in montecarlo simulation\n",
    "xgb_features['vmax_gust'] = 1 # will randomly alter this in montecarlo simulation\n",
    "xgb_features['sust_dur'] = 1 # will randomly alter this in montecarlo simulation\n",
    "xgb_features['coastal_state'] = 1 # all observations in this data set are from coastal states\n",
    "xgb_features['coastal_county'] = 1 # all observations in this data set are from coastal counties\n",
    "xgb_features['total_flood_damage_censored'] = 0\n",
    "#xgb_features['freeboard_ft'] = data['above_bfe']  \n",
    "xgb_features['base_flood_elv_ft'] = data['depth_2020_rp100_mid']*\n",
    "\n",
    "\n",
    "\n",
    "#x = data[[\"storm_dist\",\"tot_precip\",\"vmax_sust\",\"vmax_gust\",\n",
    " #             \"sust_dur\",\"coastal_state\",\"coastal_county\",\n",
    " #             \"total_flood_damage_censored\",\"freeboard_ft\",\n",
    " #             \"base_flood_elv_ft\",\"basement\",\"crawlspace\",\"elevated_building\",\n",
    " #             \"a_zone\",\"v_zone\",\"x_zone\",\"sfha\",\"floors\",\"post_firm\",\n",
    " #             \"primary_res\",\"avg_county_home_value\",\"assumed_home_value\",\n",
    " #             \"assumed_home_value_censored\"]]\n"
   ]
  },
  {
   "cell_type": "code",
   "execution_count": null,
   "metadata": {},
   "outputs": [],
   "source": []
  }
 ],
 "metadata": {
  "kernelspec": {
   "display_name": "hurr_dam_preds_env",
   "language": "python",
   "name": "hurr_dam_preds_env"
  },
  "language_info": {
   "codemirror_mode": {
    "name": "ipython",
    "version": 3
   },
   "file_extension": ".py",
   "mimetype": "text/x-python",
   "name": "python",
   "nbconvert_exporter": "python",
   "pygments_lexer": "ipython3",
   "version": "3.7.6"
  }
 },
 "nbformat": 4,
 "nbformat_minor": 4
}
